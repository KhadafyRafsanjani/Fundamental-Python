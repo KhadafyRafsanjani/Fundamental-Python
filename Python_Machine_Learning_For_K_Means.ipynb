{
  "nbformat": 4,
  "nbformat_minor": 0,
  "metadata": {
    "colab": {
      "name": "Python  Machine Learning For K-Means.ipynb",
      "provenance": [],
      "authorship_tag": "ABX9TyORDS8BwXbLx0AopkpW9lZ6",
      "include_colab_link": true
    },
    "kernelspec": {
      "name": "python3",
      "display_name": "Python 3"
    },
    "language_info": {
      "name": "python"
    }
  },
  "cells": [
    {
      "cell_type": "markdown",
      "metadata": {
        "id": "view-in-github",
        "colab_type": "text"
      },
      "source": [
        "<a href=\"https://colab.research.google.com/github/jumadi-cloud/Fundamental-Python/blob/main/Python_Machine_Learning_For_K_Means.ipynb\" target=\"_parent\"><img src=\"https://colab.research.google.com/assets/colab-badge.svg\" alt=\"Open In Colab\"/></a>"
      ]
    },
    {
      "cell_type": "markdown",
      "metadata": {
        "id": "XowzMyHA4Ao0"
      },
      "source": [
        "**LANGKAH 1**\n",
        "\n",
        "**KONEKSI DENGAN GITHUB**\n",
        "\n",
        "(https://github.com/jumadi-cloud/Fundamental-Python/tree/main/Dataset)"
      ]
    },
    {
      "cell_type": "code",
      "metadata": {
        "colab": {
          "base_uri": "https://localhost:8080/"
        },
        "id": "nPxx5R386Kta",
        "outputId": "4cba9115-3497-46dc-f564-a1d13d2fe832"
      },
      "source": [
        "!wget -O konsumen2.csv https://raw.githubusercontent.com/jumadi-cloud/Fundamental-Python/main/Dataset/konsumen2.csv"
      ],
      "execution_count": 13,
      "outputs": [
        {
          "output_type": "stream",
          "text": [
            "--2021-08-17 14:54:55--  https://raw.githubusercontent.com/jumadi-cloud/Fundamental-Python/main/Dataset/konsumen2.csv\n",
            "Resolving raw.githubusercontent.com (raw.githubusercontent.com)... 185.199.108.133, 185.199.111.133, 185.199.110.133, ...\n",
            "Connecting to raw.githubusercontent.com (raw.githubusercontent.com)|185.199.108.133|:443... connected.\n",
            "HTTP request sent, awaiting response... 200 OK\n",
            "Length: 239 [text/plain]\n",
            "Saving to: ‘konsumen2.csv’\n",
            "\n",
            "\rkonsumen2.csv         0%[                    ]       0  --.-KB/s               \rkonsumen2.csv       100%[===================>]     239  --.-KB/s    in 0s      \n",
            "\n",
            "2021-08-17 14:54:55 (10.8 MB/s) - ‘konsumen2.csv’ saved [239/239]\n",
            "\n"
          ],
          "name": "stdout"
        }
      ]
    },
    {
      "cell_type": "markdown",
      "metadata": {
        "id": "9DKDjjcz4w-p"
      },
      "source": [
        "**CARA CEK ISI DARI GITHUB (CARA ISI FOLDER)**"
      ]
    },
    {
      "cell_type": "code",
      "metadata": {
        "id": "kx961-F8FSBu",
        "colab": {
          "base_uri": "https://localhost:8080/"
        },
        "outputId": "29f44ee4-337e-4100-936c-d59dbf81d3f2"
      },
      "source": [
        "!ls "
      ],
      "execution_count": 14,
      "outputs": [
        {
          "output_type": "stream",
          "text": [
            "konsumen2.csv  sample_data\n"
          ],
          "name": "stdout"
        }
      ]
    },
    {
      "cell_type": "markdown",
      "metadata": {
        "id": "DG2X1eyP5cYs"
      },
      "source": [
        "**LANGKAH 2**\n",
        "\n",
        "**IMPORT LIBRARY YANG DIBUTUHKAN**\n",
        "\n",
        "> Numpy => Digunakan untuk kebutuhan scientific\n",
        "\n",
        "https://numpy.org/install/\n",
        "\n",
        "> Matplotlib => Untuk membuat grafik plot sesuai kebutuhan\n",
        "\n",
        "https://matplotlib.org/stable/users/installing.html\n",
        "\n",
        "> Pandas => Untuk manipulasi data\n",
        "\n",
        "https://pandas.pydata.org/pandas-docs/stable/getting_started/install.html\n",
        "> SKlearn => Untuk Algoritma KMean\n",
        "\n",
        "https://scikit-learn.org/stable/\n",
        "\n"
      ]
    },
    {
      "cell_type": "code",
      "metadata": {
        "id": "-rdSZnmHbd6U"
      },
      "source": [
        "# Import Library yang digunakan\n",
        "import matplotlib.pyplot as plt\n",
        "import numpy as np\n",
        "import pandas as pd\n",
        "from sklearn.cluster import KMeans"
      ],
      "execution_count": 15,
      "outputs": []
    },
    {
      "cell_type": "markdown",
      "metadata": {
        "id": "0o4cdWmenOov"
      },
      "source": [
        "**LANGKAH 3**\n",
        "\n",
        "**MENYIAPKAN DATASET**\n",
        "\n",
        "https://raw.githubusercontent.com/jumadi-cloud/Fundamental-Python/main/Dataset/konsumen2.csv"
      ]
    },
    {
      "cell_type": "code",
      "metadata": {
        "colab": {
          "base_uri": "https://localhost:8080/"
        },
        "id": "bHFayqEocQoF",
        "outputId": "543dac5d-7d51-4bfa-c31c-0b0dec93c3d9"
      },
      "source": [
        "# Menyiapkan data dan memangil dataset dari github\n",
        "\n",
        "Dataset = pd.read_csv('https://raw.githubusercontent.com/jumadi-cloud/Fundamental-Python/main/Dataset/konsumen2.csv', error_bad_lines=False)\n",
        "Dataset.keys()"
      ],
      "execution_count": 25,
      "outputs": [
        {
          "output_type": "execute_result",
          "data": {
            "text/plain": [
              "Index(['Gaji', 'Pengeluaran'], dtype='object')"
            ]
          },
          "metadata": {
            "tags": []
          },
          "execution_count": 25
        }
      ]
    },
    {
      "cell_type": "code",
      "metadata": {
        "colab": {
          "base_uri": "https://localhost:8080/",
          "height": 203
        },
        "id": "bC89su1fojZi",
        "outputId": "6b212c3f-ced5-4648-9899-13687cd883de"
      },
      "source": [
        "# Menampilkan 5 baris data pertama dari dataset tersebut\n",
        "dataku = pd.DataFrame(Dataset)\n",
        "dataku.head()"
      ],
      "execution_count": 26,
      "outputs": [
        {
          "output_type": "execute_result",
          "data": {
            "text/html": [
              "<div>\n",
              "<style scoped>\n",
              "    .dataframe tbody tr th:only-of-type {\n",
              "        vertical-align: middle;\n",
              "    }\n",
              "\n",
              "    .dataframe tbody tr th {\n",
              "        vertical-align: top;\n",
              "    }\n",
              "\n",
              "    .dataframe thead th {\n",
              "        text-align: right;\n",
              "    }\n",
              "</style>\n",
              "<table border=\"1\" class=\"dataframe\">\n",
              "  <thead>\n",
              "    <tr style=\"text-align: right;\">\n",
              "      <th></th>\n",
              "      <th>Gaji</th>\n",
              "      <th>Pengeluaran</th>\n",
              "    </tr>\n",
              "  </thead>\n",
              "  <tbody>\n",
              "    <tr>\n",
              "      <th>0</th>\n",
              "      <td>2500</td>\n",
              "      <td>1750</td>\n",
              "    </tr>\n",
              "    <tr>\n",
              "      <th>1</th>\n",
              "      <td>3800</td>\n",
              "      <td>4200</td>\n",
              "    </tr>\n",
              "    <tr>\n",
              "      <th>2</th>\n",
              "      <td>3900</td>\n",
              "      <td>3800</td>\n",
              "    </tr>\n",
              "    <tr>\n",
              "      <th>3</th>\n",
              "      <td>4350</td>\n",
              "      <td>5500</td>\n",
              "    </tr>\n",
              "    <tr>\n",
              "      <th>4</th>\n",
              "      <td>4400</td>\n",
              "      <td>3200</td>\n",
              "    </tr>\n",
              "  </tbody>\n",
              "</table>\n",
              "</div>"
            ],
            "text/plain": [
              "   Gaji  Pengeluaran\n",
              "0  2500         1750\n",
              "1  3800         4200\n",
              "2  3900         3800\n",
              "3  4350         5500\n",
              "4  4400         3200"
            ]
          },
          "metadata": {
            "tags": []
          },
          "execution_count": 26
        }
      ]
    },
    {
      "cell_type": "code",
      "metadata": {
        "colab": {
          "base_uri": "https://localhost:8080/"
        },
        "id": "KS-8vNFOeHvo",
        "outputId": "23485341-3a35-4476-c642-99af3edb232c"
      },
      "source": [
        "# Konversi ke data array\n",
        "X = np.asarray(Dataset)\n",
        "print (X)"
      ],
      "execution_count": 27,
      "outputs": [
        {
          "output_type": "stream",
          "text": [
            "[[ 2500  1750]\n",
            " [ 3800  4200]\n",
            " [ 3900  3800]\n",
            " [ 4350  5500]\n",
            " [ 4400  3200]\n",
            " [ 5500  5450]\n",
            " [ 5600  5950]\n",
            " [ 5750  4100]\n",
            " [ 6850  6050]\n",
            " [ 6900  8500]\n",
            " [ 7250  9500]\n",
            " [ 7350  6050]\n",
            " [ 7500  8500]\n",
            " [ 7800  9500]\n",
            " [ 8200  8300]\n",
            " [ 8500  6500]\n",
            " [ 8550  8400]\n",
            " [ 8750  6000]\n",
            " [ 9100 10500]\n",
            " [ 9100  8500]]\n"
          ],
          "name": "stdout"
        }
      ]
    },
    {
      "cell_type": "code",
      "metadata": {
        "colab": {
          "base_uri": "https://localhost:8080/",
          "height": 295
        },
        "id": "YVgh8RhTeOuo",
        "outputId": "c291331b-bd6f-4f01-ef24-ff30c6d9ccc2"
      },
      "source": [
        "# Menampilkan data dalam bentuk scatter plot\n",
        "plt.scatter(X[:,0],X[:,1], label='True Position')\n",
        "plt.xlabel(\"Gaji\")\n",
        "plt.ylabel(\"Pengeluaran\")\n",
        "plt.title(\"Grafik konsumen\")\n",
        "plt.show()"
      ],
      "execution_count": 19,
      "outputs": [
        {
          "output_type": "display_data",
          "data": {
            "image/png": "[encoded data removed]",
            "text/plain": [
              "<Figure size 432x288 with 1 Axes>"
            ]
          },
          "metadata": {
            "tags": [],
            "needs_background": "light"
          }
        }
      ]
    },
    {
      "cell_type": "markdown",
      "metadata": {
        "id": "79rC4Y9NpK0Q"
      },
      "source": [
        "**LANGKAH 4**\n",
        "\n",
        "**MENGGUNAKAN LIBRARY K-MEANS**"
      ]
    },
    {
      "cell_type": "code",
      "metadata": {
        "colab": {
          "base_uri": "https://localhost:8080/"
        },
        "id": "pyeEpEkpmnkm",
        "outputId": "6167cccf-352d-4892-e31f-f24ae24a3212"
      },
      "source": [
        "# Mengaktifkan K Means dengan jumlah K = 2\n",
        "kmeans = KMeans(n_clusters=2)\n",
        "kmeans.fit(X)"
      ],
      "execution_count": 28,
      "outputs": [
        {
          "output_type": "execute_result",
          "data": {
            "text/plain": [
              "KMeans(algorithm='auto', copy_x=True, init='k-means++', max_iter=300,\n",
              "       n_clusters=2, n_init=10, n_jobs=None, precompute_distances='auto',\n",
              "       random_state=None, tol=0.0001, verbose=0)"
            ]
          },
          "metadata": {
            "tags": []
          },
          "execution_count": 28
        }
      ]
    },
    {
      "cell_type": "code",
      "metadata": {
        "colab": {
          "base_uri": "https://localhost:8080/"
        },
        "id": "ufGvM_Wjqxpp",
        "outputId": "0ad38b15-71e1-403c-f82e-02ccc00eb1c6"
      },
      "source": [
        "# Menampilkan nilai centroid\n",
        "# yang di generate oleh algoritma\n",
        "\n",
        "print(kmeans.cluster_centers_)"
      ],
      "execution_count": 29,
      "outputs": [
        {
          "output_type": "stream",
          "text": [
            "[[4475.   4243.75]\n",
            " [7987.5  8025.  ]]\n"
          ],
          "name": "stdout"
        }
      ]
    },
    {
      "cell_type": "code",
      "metadata": {
        "colab": {
          "base_uri": "https://localhost:8080/"
        },
        "id": "7X8c5g8YrxbG",
        "outputId": "3cd1f30c-cf78-4431-f316-94c20c9c94d0"
      },
      "source": [
        "# Menampilkan label data point\n",
        "print(kmeans.labels_)"
      ],
      "execution_count": 22,
      "outputs": [
        {
          "output_type": "stream",
          "text": [
            "[1 1 1 1 1 1 1 1 0 0 0 0 0 0 0 0 0 0 0 0]\n"
          ],
          "name": "stdout"
        }
      ]
    },
    {
      "cell_type": "markdown",
      "metadata": {
        "id": "95-OUvEkp6MZ"
      },
      "source": [
        "**LANGKAH 5**\n",
        "\n",
        "**MENAMPILKAN OUTPUT**"
      ]
    },
    {
      "cell_type": "code",
      "metadata": {
        "colab": {
          "base_uri": "https://localhost:8080/",
          "height": 312
        },
        "id": "3rtyPkkwtdD7",
        "outputId": "3d3bf17e-eb51-4823-8db9-945d293af7c9"
      },
      "source": [
        "# Plot data point\n",
        "# Memvisualisasikan bagaimana telah di klasterisasikan\n",
        "\n",
        "plt.scatter(X[:,0],X[:,1], c=kmeans.labels_, cmap='rainbow')\n",
        "plt.xlabel(\"Gaji\")\n",
        "plt.ylabel(\"Pengeluaran\")\n",
        "plt.title(\"Grafik Konsumen\")\n",
        "plt.show"
      ],
      "execution_count": 30,
      "outputs": [
        {
          "output_type": "execute_result",
          "data": {
            "text/plain": [
              "<function matplotlib.pyplot.show>"
            ]
          },
          "metadata": {
            "tags": []
          },
          "execution_count": 30
        },
        {
          "output_type": "display_data",
          "data": {
            "image/png": "[encoded data removed]",
            "text/plain": [
              "<Figure size 432x288 with 1 Axes>"
            ]
          },
          "metadata": {
            "tags": [],
            "needs_background": "light"
          }
        }
      ]
    },
    {
      "cell_type": "code",
      "metadata": {
        "colab": {
          "base_uri": "https://localhost:8080/",
          "height": 295
        },
        "id": "JI-MBVTuvc4O",
        "outputId": "492643ce-bca6-4672-f94d-8a9a1ee4c9a3"
      },
      "source": [
        "# Plot data point\n",
        "# Memvisualisasikan bagaimana telah di klasterisasikan\n",
        "# Menampilkan centroids dengan warna hitam\n",
        "plt.scatter(X[:,0],X[:,1], c=kmeans.labels_,\n",
        "\t\tcmap='rainbow')\n",
        "plt.scatter(kmeans.cluster_centers_[:,0],\n",
        "\t\tkmeans.cluster_centers_[:,1],\n",
        "\t\tcolor='black')\n",
        "plt.xlabel(\"Gaji\")\n",
        "plt.ylabel(\"Pengeluaran\")\n",
        "plt.title(\"Grafik Konsumen\")\n",
        "plt.show()"
      ],
      "execution_count": 24,
      "outputs": [
        {
          "output_type": "display_data",
          "data": {
            "image/png": "[encoded data removed]",
            "text/plain": [
              "<Figure size 432x288 with 1 Axes>"
            ]
          },
          "metadata": {
            "tags": [],
            "needs_background": "light"
          }
        }
      ]
    }
  ]
}