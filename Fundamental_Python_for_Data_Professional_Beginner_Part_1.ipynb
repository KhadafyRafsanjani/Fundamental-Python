{
  "nbformat": 4,
  "nbformat_minor": 0,
  "metadata": {
    "colab": {
      "name": "Fundamental Python for Data Professional Beginner - Part 1.ipynb",
      "provenance": [],
      "include_colab_link": true
    },
    "kernelspec": {
      "name": "python3",
      "display_name": "Python 3"
    }
  },
  "cells": [
    {
      "cell_type": "markdown",
      "metadata": {
        "id": "view-in-github",
        "colab_type": "text"
      },
      "source": [
        "<a href=\"https://colab.research.google.com/github/jumadi-cloud/fundamental-python-for-machine-learning/blob/main/Fundamental_Python_for_Data_Professional_Beginner_Part_1.ipynb\" target=\"_parent\"><img src=\"https://colab.research.google.com/assets/colab-badge.svg\" alt=\"Open In Colab\"/></a>"
      ]
    },
    {
      "cell_type": "markdown",
      "metadata": {
        "id": "X9N5qIBn-Ire"
      },
      "source": [
        "Program pertama: \"Hello World\""
      ]
    },
    {
      "cell_type": "code",
      "metadata": {
        "colab": {
          "base_uri": "https://localhost:8080/"
        },
        "id": "3tV10AdN-heM",
        "outputId": "bc2dde77-7a14-4dde-c9e2-6935151443c7"
      },
      "source": [
        "print(\"Hello World\")"
      ],
      "execution_count": null,
      "outputs": [
        {
          "output_type": "stream",
          "text": [
            "Hello World\n"
          ],
          "name": "stdout"
        }
      ]
    },
    {
      "cell_type": "markdown",
      "metadata": {
        "id": "P8IAGzWS-1E8"
      },
      "source": [
        "Program Pertamaku\n",
        "\n",
        "\n"
      ]
    },
    {
      "cell_type": "code",
      "metadata": {
        "colab": {
          "base_uri": "https://localhost:8080/"
        },
        "id": "GMUVymJ5-zar",
        "outputId": "896b8ba1-dcf6-4b7b-a786-8eca8fd2b840"
      },
      "source": [
        "print(\"Halo Dunia\")\n",
        "print(\"Riset Bahasa Python\")"
      ],
      "execution_count": null,
      "outputs": [
        {
          "output_type": "stream",
          "text": [
            "Halo Dunia\n",
            "Riset Bahasa Python\n"
          ],
          "name": "stdout"
        }
      ]
    },
    {
      "cell_type": "markdown",
      "metadata": {
        "id": "5XZJFJ2k_fYo"
      },
      "source": [
        "Struktur program Python part1"
      ]
    },
    {
      "cell_type": "code",
      "metadata": {
        "colab": {
          "base_uri": "https://localhost:8080/"
        },
        "id": "xPR2JMpd_zkI",
        "outputId": "d3493aa8-41c9-4d76-ab99-cb028f9b61c6"
      },
      "source": [
        "# Statement\n",
        "print(\"Belajar Python menyenangkan\")\n",
        "print(\"Halo Dunia\")\n",
        "print(\"Hello World!\")\n",
        "# Variales & Literals\n",
        "bilangan1 = 5\n",
        "bilangan2 = 10\n",
        "kalimat1 = \"Belajar Bahasa Python\"\n",
        "# Operators\n",
        "print(bilangan1 + bilangan2)"
      ],
      "execution_count": null,
      "outputs": [
        {
          "output_type": "stream",
          "text": [
            "Belajar Python menyenangkan\n",
            "Halo Dunia\n",
            "Hello World!\n",
            "15\n"
          ],
          "name": "stdout"
        }
      ]
    },
    {
      "cell_type": "markdown",
      "metadata": {
        "id": "FbsHApGuD8yF"
      },
      "source": [
        "Tugas Praktek"
      ]
    },
    {
      "cell_type": "code",
      "metadata": {
        "colab": {
          "base_uri": "https://localhost:8080/"
        },
        "id": "jEtbnan9ECXc",
        "outputId": "ad485dff-1d9e-4fbd-9f79-5841cc3dbc2d"
      },
      "source": [
        "bilangan1 = 20\n",
        "bilangan2 = 10\n",
        "print(bilangan1 - bilangan2)"
      ],
      "execution_count": null,
      "outputs": [
        {
          "output_type": "stream",
          "text": [
            "10\n"
          ],
          "name": "stdout"
        }
      ]
    },
    {
      "cell_type": "markdown",
      "metadata": {
        "id": "fsrfuWtAGSsd"
      },
      "source": [
        "**Tugas Praktek**"
      ]
    },
    {
      "cell_type": "code",
      "metadata": {
        "colab": {
          "base_uri": "https://localhost:8080/"
        },
        "id": "jRkJWUtwGnOX",
        "outputId": "42523904-738a-4f10-a0b2-d358c6fdccd2"
      },
      "source": [
        "harga_asli = 20000\n",
        "potongan = 2000\n",
        "harga_setelah_potongan = harga_asli - potongan\n",
        "harga_final = harga_setelah_potongan * 1.1\n",
        "print(harga_final)"
      ],
      "execution_count": null,
      "outputs": [
        {
          "output_type": "stream",
          "text": [
            "19800.0\n"
          ],
          "name": "stdout"
        }
      ]
    },
    {
      "cell_type": "markdown",
      "metadata": {
        "id": "Wg7Oh269IKWg"
      },
      "source": [
        "**Sequence Type – Part1**"
      ]
    },
    {
      "cell_type": "code",
      "metadata": {
        "colab": {
          "base_uri": "https://localhost:8080/"
        },
        "id": "VrvDLEFDPWAr",
        "outputId": "bacbe80c-6632-4e95-89bf-672f03f73045"
      },
      "source": [
        "contoh_list = [1, 'dua', 3, 4.0, 5]\n",
        "print(contoh_list[0])\n",
        "print(contoh_list[3])\n",
        "contoh_list = [1, 'dua', 3, 4.0, 5]\n",
        "contoh_list[3] = 'empat'\n",
        "print(contoh_list[3])"
      ],
      "execution_count": null,
      "outputs": [
        {
          "output_type": "stream",
          "text": [
            "1\n",
            "4.0\n",
            "empat\n"
          ],
          "name": "stdout"
        }
      ]
    },
    {
      "cell_type": "markdown",
      "metadata": {
        "id": "DmKM4A1gQMZv"
      },
      "source": [
        "**Sequence Type – Part2**"
      ]
    },
    {
      "cell_type": "code",
      "metadata": {
        "colab": {
          "base_uri": "https://localhost:8080/"
        },
        "id": "CkVGhPBVQR65",
        "outputId": "32418b57-a4c9-4e76-f3ab-d96e230809b6"
      },
      "source": [
        "contoh_tuple = ('Januari','Februari','Maret','April')\n",
        "print(contoh_tuple[0])\n",
        "contoh_tuple = ('Januari','Februari','Maret','April')\n",
        "contoh_tuple[0] = 'Desember'"
      ],
      "execution_count": null,
      "outputs": [
        {
          "output_type": "stream",
          "text": [
            "Januari\n"
          ],
          "name": "stdout"
        }
      ]
    },
    {
      "cell_type": "markdown",
      "metadata": {
        "id": "DIjHk4m8Rtfc"
      },
      "source": [
        "**Set Type**"
      ]
    },
    {
      "cell_type": "code",
      "metadata": {
        "colab": {
          "base_uri": "https://localhost:8080/"
        },
        "id": "p8YCfA1oR1Tf",
        "outputId": "b9246e70-03bf-4a4d-9bb3-a9b111053fb5"
      },
      "source": [
        "contoh_list = ['Dewi','Budi','Cici','Linda','Cici'] \n",
        "print(contoh_list)\n",
        "contoh_set = {'Dewi','Budi','Cici','Linda','Cici'}\n",
        "print(contoh_set)\n",
        "contoh_frozen_set = ({'Dewi','Budi','Cici','Linda','Cici'})\n",
        "print(contoh_frozen_set)"
      ],
      "execution_count": null,
      "outputs": [
        {
          "output_type": "stream",
          "text": [
            "['Dewi', 'Budi', 'Cici', 'Linda', 'Cici']\n",
            "{'Cici', 'Budi', 'Dewi', 'Linda'}\n",
            "{'Cici', 'Budi', 'Dewi', 'Linda'}\n"
          ],
          "name": "stdout"
        }
      ]
    },
    {
      "cell_type": "markdown",
      "metadata": {
        "id": "jRwNIV2sR7Pj"
      },
      "source": [
        "**Mapping Type**"
      ]
    },
    {
      "cell_type": "code",
      "metadata": {
        "colab": {
          "base_uri": "https://localhost:8080/"
        },
        "id": "9fUCs_PMSBt3",
        "outputId": "0b70149b-2a67-4ba9-9084-dd29d09de6f4"
      },
      "source": [
        "person = {'nama': 'Jumadi', 'pekerjaan': 'Programmer'}\n",
        "print(person['nama'])\n",
        "print(person['pekerjaan'])"
      ],
      "execution_count": null,
      "outputs": [
        {
          "output_type": "stream",
          "text": [
            "Jumadi\n",
            "Programmer\n"
          ],
          "name": "stdout"
        }
      ]
    },
    {
      "cell_type": "markdown",
      "metadata": {
        "id": "qRb7CmEDTVZO"
      },
      "source": [
        "**Tugas Praktek1**"
      ]
    },
    {
      "cell_type": "code",
      "metadata": {
        "id": "_efc5nWGTZZt"
      },
      "source": [
        "sepatu = {\"nama barang\": \"Sepatu Niko\", \"harga\": 150000, \"diskon\": 30000 }\n",
        "baju = {\"nama barang\": \"Baju Unikloh\", \"harga\": 80000, \"diskon\": 8000 }\n",
        "celana = {\"nama barang\": \"Celana Lepis\", \"harga\": 200000, \"diskon\": 60000 }"
      ],
      "execution_count": null,
      "outputs": []
    },
    {
      "cell_type": "markdown",
      "metadata": {
        "id": "sHNSs8cKTmeo"
      },
      "source": [
        "**Tugas Praktek2**"
      ]
    },
    {
      "cell_type": "code",
      "metadata": {
        "id": "_X_pjnrGTp9o"
      },
      "source": [
        "sepatu = {\"nama\": \"Sepatu Niko\", \"harga\": 150000, \"diskon\": 30000} \n",
        "baju = {\"nama\": \"Baju Unikloh\", \"harga\": 80000, \"diskon\": 8000} \n",
        "celana = {\"nama\": \"Celana Lepis\", \"harga\": 200000, \"diskon\": 60000} \n",
        "daftar_belanja = [sepatu, baju, celana]"
      ],
      "execution_count": null,
      "outputs": []
    },
    {
      "cell_type": "markdown",
      "metadata": {
        "id": "IRGbGDf6T8Ld"
      },
      "source": [
        "**Tugas Praktek1**"
      ]
    },
    {
      "cell_type": "code",
      "metadata": {
        "colab": {
          "base_uri": "https://localhost:8080/"
        },
        "id": "-NnbbPZgUENR",
        "outputId": "0ef1cbaa-50b1-49ec-adb8-5959443b48f9"
      },
      "source": [
        "# Data yang dinyatakan ke dalam dictionary\n",
        "sepatu = {\"nama\": \"Sepatu Niko\", \"harga\": 150000, \"diskon\": 30000} \n",
        "baju = {\"nama\": \"Baju Unikloh\", \"harga\": 80000, \"diskon\": 8000} \n",
        "celana = {\"nama\": \"Celana Lepis\", \"harga\": 200000, \"diskon\": 60000}\n",
        "# Hitunglah harga masing-masing data setelah dikurangi diskon\n",
        "harga_sepatu = sepatu[\"harga\"] - sepatu[\"diskon\"] \n",
        "harga_baju = baju[\"harga\"] - baju[\"diskon\"]\n",
        "harga_celana = celana[\"harga\"] - celana[\"diskon\"]\n",
        "# Hitung harga total\n",
        "total_harga = harga_sepatu + harga_baju + harga_celana\n",
        "# Hitung harga kena pajak\n",
        "total_pajak = total_harga * 0.1\n",
        "# Cetak total_harga + total_pajak\n",
        "print(total_harga + total_pajak)"
      ],
      "execution_count": null,
      "outputs": [
        {
          "output_type": "stream",
          "text": [
            "365200.0\n"
          ],
          "name": "stdout"
        }
      ]
    },
    {
      "cell_type": "markdown",
      "metadata": {
        "id": "1jbpCl8CUbK8"
      },
      "source": [
        "**Nilai Prioritas Operator dalam Python – Part1**"
      ]
    },
    {
      "cell_type": "code",
      "metadata": {
        "colab": {
          "base_uri": "https://localhost:8080/"
        },
        "id": "NfCPUysWUk4I",
        "outputId": "c570aa34-9138-4755-ad61-04540000c8d3"
      },
      "source": [
        "# Kode awal\n",
        "total_harga = 150000\n",
        "potongan_harga = 0.3\n",
        "pajak = 0.1 # pajak dalam persen ~ 10%\n",
        "harga_bayar = 1 - 0.3 # baris pertama\n",
        "harga_bayar *= total_harga # baris kedua\n",
        "pajak_bayar = pajak * harga_bayar # baris ketiga\n",
        "harga_bayar += pajak_bayar # baris ke-4\n",
        "print(\"Kode awal - harga_bayar=\", harga_bayar)\n",
        "# Penyederhanaan baris kode dengan menerapkan prioritas operator\n",
        "total_harga = 150000\n",
        "potongan_harga = 0.3\n",
        "pajak = 0.1 # pajak dalam persen ~ 10%\n",
        "harga_bayar = (1 - 0.3) * total_harga #baris pertama \n",
        "harga_bayar += harga_bayar * pajak # baris kedua\n",
        "print(\"Penyederhanaan kode - harga_bayar=\", harga_bayar)"
      ],
      "execution_count": null,
      "outputs": [
        {
          "output_type": "stream",
          "text": [
            "Kode awal - harga_bayar= 115500.0\n",
            "Penyederhanaan kode - harga_bayar= 115500.0\n"
          ],
          "name": "stdout"
        }
      ]
    },
    {
      "cell_type": "markdown",
      "metadata": {
        "id": "LntfUwoKUxFl"
      },
      "source": [
        "**Tugas Praktek2**"
      ]
    },
    {
      "cell_type": "code",
      "metadata": {
        "colab": {
          "base_uri": "https://localhost:8080/"
        },
        "id": "wSWoGfjvU1ea",
        "outputId": "1d1ce4e8-81dc-4706-f69d-14f40890713e"
      },
      "source": [
        "sepatu = { \"nama\" : \"Sepatu Niko\", \"harga\": 150000, \"diskon\": 30000 }\n",
        "baju = { \"nama\" : \"Baju Unikloh\", \"harga\": 80000, \"diskon\": 8000 }\n",
        "celana = { \"nama\" : \"Celana Lepis\", \"harga\": 200000, \"diskon\": 60000 }\n",
        "harga_sepatu = sepatu[\"harga\"] - sepatu[\"diskon\"]\n",
        "harga_baju = baju[\"harga\"] - baju[\"diskon\"]\n",
        "harga_celana = celana[\"harga\"] - celana[\"diskon\"]\n",
        "total_harga = (harga_sepatu + harga_baju + harga_celana) * 1.1 \n",
        "print(total_harga)"
      ],
      "execution_count": null,
      "outputs": [
        {
          "output_type": "stream",
          "text": [
            "365200.00000000006\n"
          ],
          "name": "stdout"
        }
      ]
    },
    {
      "cell_type": "markdown",
      "metadata": {
        "id": "4LNFjN8EU_pX"
      },
      "source": [
        "**Python Conditioning for Decision – Part2**"
      ]
    },
    {
      "cell_type": "code",
      "metadata": {
        "colab": {
          "base_uri": "https://localhost:8080/"
        },
        "id": "tode3_4EVIt_",
        "outputId": "3a3ab7b6-a05b-480a-d2c9-05e12c8e94e0"
      },
      "source": [
        "# Statement if\n",
        "x = 4\n",
        "if x % 2 == 0: # jika sisa bagi x dengan 2 sama dengan 0\n",
        "    print(\"x habis dibagi dua\") # statemen aksi lebih menjorok ke dalam\n",
        "# Statement if ... elif ... else\n",
        "x = 7\n",
        "if x % 2 == 0: # jika sisa bagi x dengan 2 sama dengan 0\n",
        "    print(\"x habis dibagi dua\")\n",
        "elif x % 3 == 0: # jika sisa bagi x dengan 3 sama dengan 0\n",
        "    print(\"x habis dibagi tiga\")\n",
        "elif x % 5 == 0: # jika sisa bagi x dengan 5 sama dengan 0\n",
        "    print(\"x habis dibagi lima\")\n",
        "else:\n",
        "    print(\"x tidak habis dibagi dua, tiga ataupun lima\")"
      ],
      "execution_count": null,
      "outputs": [
        {
          "output_type": "stream",
          "text": [
            "x habis dibagi dua\n",
            "x tidak habis dibagi dua, tiga ataupun lima\n"
          ],
          "name": "stdout"
        }
      ]
    },
    {
      "cell_type": "markdown",
      "metadata": {
        "id": "l7AvuAIMVNYS"
      },
      "source": [
        "**Python Conditioning for Decision – Part 3**"
      ]
    },
    {
      "cell_type": "code",
      "metadata": {
        "colab": {
          "base_uri": "https://localhost:8080/"
        },
        "id": "8VtdLb20VVdJ",
        "outputId": "9cc52954-f6d3-42e4-e223-5da6c85749a3"
      },
      "source": [
        "jam = 13\n",
        "if jam >= 5 and jam < 12: # selama jam di antara 5 s.d. 12\n",
        "    print(\"Selamat pagi!\")\n",
        "elif jam >= 12 and jam < 17: # selama jam di antara 12 s.d. 17\n",
        "    print(\"Selamat siang!\")\n",
        "elif jam >= 17 and jam < 19: # selama jam di antara 17 s.d. 19\n",
        "    print(\"Selamat sore!\")\n",
        "else: # selain kondisi di atas\n",
        "    print(\"Selamat malam!\")"
      ],
      "execution_count": null,
      "outputs": [
        {
          "output_type": "stream",
          "text": [
            "Selamat siang!\n"
          ],
          "name": "stdout"
        }
      ]
    },
    {
      "cell_type": "markdown",
      "metadata": {
        "id": "YE-NkL2eWRCt"
      },
      "source": [
        "**Tugas Praktek**"
      ]
    },
    {
      "cell_type": "code",
      "metadata": {
        "colab": {
          "base_uri": "https://localhost:8080/"
        },
        "id": "vrsIzFIMWZgz",
        "outputId": "9df8e7e1-22df-4aa0-a620-15da326250a7"
      },
      "source": [
        "tagihan_ke = 'Mr. Yoyo'\n",
        "warehousing = { 'harga_harian': 1000000, 'total_hari':15 } \n",
        "cleansing = { 'harga_harian': 1500000, 'total_hari':10 } \n",
        "integration = { 'harga_harian':2000000, 'total_hari':15 } \n",
        "transform = { 'harga_harian':2500000, 'total_hari':10 }\n",
        "sub_warehousing = warehousing['harga_harian'] * warehousing['total_hari']\n",
        "sub_cleansing = cleansing['harga_harian'] * cleansing['total_hari'] \n",
        "sub_integration = integration['harga_harian'] * integration['total_hari'] \n",
        "sub_transform = transform['harga_harian'] * transform['total_hari']\n",
        "total_harga = sub_warehousing + sub_cleansing + sub_integration + sub_transform\n",
        "print(\"Tagihan kepada:\") \n",
        "print(tagihan_ke)\n",
        "print(\"Selamat pagi, anda harus membayar tagihan sebesar:\") \n",
        "print(total_harga)"
      ],
      "execution_count": null,
      "outputs": [
        {
          "output_type": "stream",
          "text": [
            "Tagihan kepada:\n",
            "Mr. Yoyo\n",
            "Selamat pagi, anda harus membayar tagihan sebesar:\n",
            "85000000\n"
          ],
          "name": "stdout"
        }
      ]
    },
    {
      "cell_type": "markdown",
      "metadata": {
        "id": "zloBcat-WezQ"
      },
      "source": [
        "**Tugas Praktek**"
      ]
    },
    {
      "cell_type": "code",
      "metadata": {
        "colab": {
          "base_uri": "https://localhost:8080/"
        },
        "id": "ej2TfkdHXiWv",
        "outputId": "df370757-da2c-4c43-9698-17527a05ec7d"
      },
      "source": [
        "jam = 17\n",
        "tagihan_ke = 'Mr. Yoyo'\n",
        "warehousing = { 'harga_harian': 1000000, 'total_hari':15 } \n",
        "cleansing = { 'harga_harian': 1500000, 'total_hari':10 } \n",
        "integration = { 'harga_harian':2000000, 'total_hari':15 } \n",
        "transform = { 'harga_harian':2500000, 'total_hari':10 }\n",
        "sub_warehousing = warehousing['harga_harian']*warehousing['total_hari'] \n",
        "sub_cleansing = cleansing['harga_harian']*cleansing['total_hari'] \n",
        "sub_integration = integration['harga_harian']*integration['total_hari'] \n",
        "sub_transform = transform['harga_harian']*transform['total_hari']\n",
        "total_harga = sub_warehousing+sub_cleansing+sub_integration+sub_transform\n",
        "print(\"Tagihan kepada:\")\n",
        "print(tagihan_ke)\n",
        "if jam > 19:\n",
        "    print(\"Selamat malam, anda harus membayar tagihan sebesar:\")\n",
        "elif jam > 17 :\n",
        "    print(\"Selamat sore, anda harus membayar tagihan sebesar:\") \n",
        "elif jam > 12:\n",
        "    print(\"Selamat siang, anda harus membayar tagihan sebesar:\")\n",
        "else:\n",
        "    print(\"Selamat pagi, anda harus membayar tagihan sebesar:\") \n",
        "print(total_harga)"
      ],
      "execution_count": null,
      "outputs": [
        {
          "output_type": "stream",
          "text": [
            "Tagihan kepada:\n",
            "Mr. Yoyo\n",
            "Selamat siang, anda harus membayar tagihan sebesar:\n",
            "85000000\n"
          ],
          "name": "stdout"
        }
      ]
    },
    {
      "cell_type": "markdown",
      "metadata": {
        "id": "ULaGSesKXnUa"
      },
      "source": [
        "**Python while loops – Part1**"
      ]
    },
    {
      "cell_type": "code",
      "metadata": {
        "colab": {
          "base_uri": "https://localhost:8080/"
        },
        "id": "ej0GDH2GXs-M",
        "outputId": "cac89f80-732e-412a-ab8c-37d25c71d0c3"
      },
      "source": [
        "# Tagihan\n",
        "tagihan = [50000, 75000, 125000, 300000, 200000]\n",
        "# Tanpa menggunakan while loop\n",
        "total_tagihan = tagihan[0] + tagihan[1] + tagihan[2] + tagihan[3] + tagihan[4]\n",
        "print(total_tagihan)\n",
        "# Dengan menggunakan while loop\n",
        "i = 0 # sebuah variabel untuk mengakses setiap elemen tagihan satu per satu\n",
        "jumlah_tagihan = len(tagihan) # panjang (jumlah elemen dalam) list tagihan\n",
        "total_tagihan = 0 # mula-mula, set total_tagihan ke 0\n",
        "while i < jumlah_tagihan: # selama nilai i kurang dari jumlah_tagihan\n",
        "    total_tagihan += tagihan[i] # tambahkan tagihan[i] ke total_tagihan\n",
        "    i += 1 # tambahkan nilai i dengan 1 untuk memproses tagihan selanjutnya.\n",
        "print(total_tagihan)"
      ],
      "execution_count": null,
      "outputs": [
        {
          "output_type": "stream",
          "text": [
            "750000\n",
            "750000\n"
          ],
          "name": "stdout"
        }
      ]
    },
    {
      "cell_type": "markdown",
      "metadata": {
        "id": "voUOJ2urXwoT"
      },
      "source": [
        "**Python while loops – Part2**"
      ]
    },
    {
      "cell_type": "code",
      "metadata": {
        "colab": {
          "base_uri": "https://localhost:8080/"
        },
        "id": "gtTN0LETX3Dt",
        "outputId": "1ca205e7-079e-441d-b601-d647fa8b84ee"
      },
      "source": [
        "tagihan = [50000, 75000, -150000, 125000, 300000, -50000, 200000]\n",
        "i = 0\n",
        "jumlah_tagihan = len(tagihan)\n",
        "total_tagihan = 0\n",
        "while i < jumlah_tagihan:\n",
        "    # jika terdapat tagihan ke-i yang bernilai minus (di bawah nol),\n",
        "    # pengulangan akan dihentikan\n",
        "    if tagihan[i] < 0:\n",
        "        total_tagihan = -1\n",
        "        print(\"terdapat angka minus dalam tagihan, perhitungan dihentikan!\")\n",
        "        break\n",
        "    total_tagihan += tagihan[i]\n",
        "    i += 1\n",
        "print(total_tagihan)"
      ],
      "execution_count": null,
      "outputs": [
        {
          "output_type": "stream",
          "text": [
            "terdapat angka minus dalam tagihan, perhitungan dihentikan!\n",
            "-1\n"
          ],
          "name": "stdout"
        }
      ]
    },
    {
      "cell_type": "markdown",
      "metadata": {
        "id": "Uy_vvc1mX6n5"
      },
      "source": [
        "**Python while loops – Part3**"
      ]
    },
    {
      "cell_type": "code",
      "metadata": {
        "colab": {
          "base_uri": "https://localhost:8080/"
        },
        "id": "j0RYReYNYB3X",
        "outputId": "8fa25101-84cc-4239-9919-9de2516ccb09"
      },
      "source": [
        "tagihan = [50000, 75000, -150000, 125000, 300000, -50000, 200000]\n",
        "i = 0\n",
        "jumlah_tagihan = len(tagihan)\n",
        "total_tagihan = 0\n",
        "while i < jumlah_tagihan:\n",
        "    # jika terdapat tagihan ke-i yang bernilai minus (di bawah nol),\n",
        "    # abaikan tagihan ke-i dan lanjutkan ke tagihan berikutnya\n",
        "    if tagihan[i] < 0:\n",
        "        i += 1\n",
        "        continue\n",
        "    total_tagihan += tagihan[i]\n",
        "    i += 1\n",
        "print(total_tagihan)"
      ],
      "execution_count": null,
      "outputs": [
        {
          "output_type": "stream",
          "text": [
            "750000\n"
          ],
          "name": "stdout"
        }
      ]
    },
    {
      "cell_type": "markdown",
      "metadata": {
        "id": "wR3qtog0YHFk"
      },
      "source": [
        "**Python for loops – Part1**"
      ]
    },
    {
      "cell_type": "code",
      "metadata": {
        "colab": {
          "base_uri": "https://localhost:8080/"
        },
        "id": "ScQBe2LOYNCe",
        "outputId": "82751722-ddcf-44db-93c1-1921e62ceb53"
      },
      "source": [
        "list_tagihan = [50000, 75000, -150000, 125000, 300000, -50000, 200000]\n",
        "total_tagihan = 0\n",
        "for tagihan in list_tagihan: # untuk setiap tagihan dalam list_tagihan\n",
        "    total_tagihan += tagihan # tambahkan tagihan ke total_tagihan\n",
        "print(total_tagihan)"
      ],
      "execution_count": null,
      "outputs": [
        {
          "output_type": "stream",
          "text": [
            "550000\n"
          ],
          "name": "stdout"
        }
      ]
    },
    {
      "cell_type": "markdown",
      "metadata": {
        "id": "1i9k7Ln5YO9z"
      },
      "source": [
        "**Python for loops – Part2**"
      ]
    },
    {
      "cell_type": "code",
      "metadata": {
        "colab": {
          "base_uri": "https://localhost:8080/"
        },
        "id": "2bk3fqFOYVCZ",
        "outputId": "de1241fc-edf5-4be0-d1d3-f4e60ed60b41"
      },
      "source": [
        "list_tagihan = [50000, 75000, -150000, 125000, 300000, -50000, 200000]\n",
        "total_tagihan = 0\n",
        "for tagihan in list_tagihan:\n",
        "    if tagihan < 0:\n",
        "        print(\"terdapat angka minus dalam tagihan, perhitungan dihentikan!\")\n",
        "        break\n",
        "    total_tagihan += tagihan\n",
        "print(total_tagihan)"
      ],
      "execution_count": null,
      "outputs": [
        {
          "output_type": "stream",
          "text": [
            "terdapat angka minus dalam tagihan, perhitungan dihentikan!\n",
            "125000\n"
          ],
          "name": "stdout"
        }
      ]
    },
    {
      "cell_type": "markdown",
      "metadata": {
        "id": "SAlXsL0hYYqR"
      },
      "source": [
        "**Python for loops – Part3**"
      ]
    },
    {
      "cell_type": "code",
      "metadata": {
        "colab": {
          "base_uri": "https://localhost:8080/"
        },
        "id": "1cK7_y4HYdsl",
        "outputId": "229c2ccc-c6f3-4c5c-a555-daf6efc3bd3f"
      },
      "source": [
        "list_daerah = ['Malang', 'Palembang', 'Medan']\n",
        "list_buah = ['Apel', 'Duku', 'Jeruk']\n",
        "for nama_daerah in list_daerah:\n",
        "    for nama_buah in list_buah:\n",
        "        print(nama_buah+\" \"+nama_daerah)"
      ],
      "execution_count": null,
      "outputs": [
        {
          "output_type": "stream",
          "text": [
            "Apel Malang\n",
            "Duku Malang\n",
            "Jeruk Malang\n",
            "Apel Palembang\n",
            "Duku Palembang\n",
            "Jeruk Palembang\n",
            "Apel Medan\n",
            "Duku Medan\n",
            "Jeruk Medan\n"
          ],
          "name": "stdout"
        }
      ]
    },
    {
      "cell_type": "markdown",
      "metadata": {
        "id": "lJTRC4riYgUw"
      },
      "source": [
        "**Tugas Praktek**"
      ]
    },
    {
      "cell_type": "code",
      "metadata": {
        "colab": {
          "base_uri": "https://localhost:8080/"
        },
        "id": "gn9efjFSYljq",
        "outputId": "03d6f74e-4fe6-44f3-c94e-f452cffd014a"
      },
      "source": [
        "list_cash_flow = [2500000, 5000000, -1000000, -2500000, 5000000, 10000000,\n",
        "\t\t\t\t  -5000000, 7500000, 10000000, -1500000, 25000000, -2500000]\n",
        "total_pengeluaran, total_pemasukan = 0, 0\n",
        "for dana in list_cash_flow :\n",
        "    if dana > 0:\n",
        "        total_pemasukan += dana\n",
        "    else:\n",
        "        total_pengeluaran += dana\n",
        "total_pengeluaran *= -1\n",
        "print(total_pengeluaran) \n",
        "print(total_pemasukan)"
      ],
      "execution_count": null,
      "outputs": [
        {
          "output_type": "stream",
          "text": [
            "12500000\n",
            "65000000\n"
          ],
          "name": "stdout"
        }
      ]
    },
    {
      "cell_type": "markdown",
      "metadata": {
        "id": "_9irUf_MYo1p"
      },
      "source": [
        "**Ekspedisi Pamanku**"
      ]
    },
    {
      "cell_type": "code",
      "metadata": {
        "colab": {
          "base_uri": "https://localhost:8080/"
        },
        "id": "E2ebujfuYt06",
        "outputId": "175e3eec-79a4-4ac2-a363-c49a10eb1da7"
      },
      "source": [
        "# Data\n",
        "uang_jalan = 1500000\n",
        "jumlah_hari = 31\n",
        "list_plat_nomor = [8993, 2198, 2501, 2735, 3772, 4837, 9152]\n",
        "# Pengecekan kendaraan dengan nomor pelat ganjil atau genap \n",
        "# Deklarasikan kendaraan_genap dan kendaraan_ganjil = 0\n",
        "kendaraan_genap = 0 \n",
        "kendaraan_ganjil = 0\n",
        "for plat_nomor in list_plat_nomor:\n",
        "    if plat_nomor % 2 == 0:\n",
        "        kendaraan_genap += 1\n",
        "    else:\n",
        "        kendaraan_ganjil += 1\n",
        "# Total pengeluaran untuk kendaraan dengan nomor pelat ganjil \n",
        "# dan genap dalam 1 bulan\n",
        "i = 1\n",
        "total_pengeluaran = 0\n",
        "while i <= jumlah_hari:\n",
        "    if i % 2 == 0:\n",
        "        total_pengeluaran += (kendaraan_genap * uang_jalan)\n",
        "    else:\n",
        "        total_pengeluaran += (kendaraan_ganjil * uang_jalan)\n",
        "    i += 1\n",
        "# Cetak total pengeluaran\n",
        "print(total_pengeluaran)"
      ],
      "execution_count": null,
      "outputs": [
        {
          "output_type": "stream",
          "text": [
            "163500000\n"
          ],
          "name": "stdout"
        }
      ]
    }
  ]
}