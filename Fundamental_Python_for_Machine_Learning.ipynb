{
  "nbformat": 4,
  "nbformat_minor": 0,
  "metadata": {
    "colab": {
      "name": "Fundamental Python for Machine Learning.ipynb",
      "provenance": [],
      "collapsed_sections": [],
      "authorship_tag": "ABX9TyNP6AKGx+uYD2vjX89wgT9C",
      "include_colab_link": true
    },
    "kernelspec": {
      "name": "python3",
      "display_name": "Python 3"
    },
    "language_info": {
      "name": "python"
    }
  },
  "cells": [
    {
      "cell_type": "markdown",
      "metadata": {
        "id": "view-in-github",
        "colab_type": "text"
      },
      "source": [
        "<a href=\"https://colab.research.google.com/github/jumadi-cloud/fundamental-python-for-machine-learning/blob/main/Fundamental_Python_for_Machine_Learning.ipynb\" target=\"_parent\"><img src=\"https://colab.research.google.com/assets/colab-badge.svg\" alt=\"Open In Colab\"/></a>"
      ]
    },
    {
      "cell_type": "markdown",
      "metadata": {
        "id": "f_zNldobOR7p"
      },
      "source": [
        "# **Aturan Penulisan Statement Pada *Basic Python***\n",
        "1. Penulisan satu statement di dalam Python tidak diakhiri dengan tanda titik-koma\n",
        "2. Statement pada Pyhton dinyatakan dalam satu baris. Jadi akhir dari sebuah pernyataan adalah baris baru (new line).\n",
        "3. Jika ada pernyataan yang panjangnya terdiri lebih dari 1 baris, maka dapat dilakukan dengan menggunakan tanda backslash (\\).\n",
        "4. Statement yang ada di dalam atau diapit oleh tanda kurung seperti \"[],{},()\" tidak memerlukan tanda \"\".\n",
        "5. Python menggunakan tanda indentasi (spasi) sebagai penanda blok. Panjang spasi atau indentasi untuk setiap baris yang ada dalam satu blok kode harus sama. Bila spasi atau indentasi dalam satu grup kode tersebut tidak sama, python akan menamplikan sintaks error.\n",
        "6. Sebaga penanda string, Python menggunakan tanda kutip, baik tunggal ('), maupun ganda(\"). Tanda kutip tiga(\"\"\") digunakan untuk string multibaris.\n",
        "7. Bahasa Python bersifat case sensitif, yang berarti membedakan huruf besar dan huruf kecil (memiliki nilai yang berbeda).\n",
        "8. Untuk komentar di awali dengan tanda \"#\" yang artinya tidak diproses sebagai statement code."
      ]
    },
    {
      "cell_type": "markdown",
      "metadata": {
        "id": "l99P8Enspz3_"
      },
      "source": [
        "**Aturan yang pertama**\n",
        "1. Penulisan satu statement di dalam Python tidak diakhiri dengan tanda titik-koma"
      ]
    },
    {
      "cell_type": "code",
      "metadata": {
        "id": "iDpN1BZeN8Wo",
        "colab": {
          "base_uri": "https://localhost:8080/"
        },
        "outputId": "c86309f5-f50f-4450-852f-52ba14089822"
      },
      "source": [
        "print(\"Halo Dunia!\")\n",
        "print(\"panjang = 100\")\n",
        "print(\"lebar = 23\")\n",
        "print('saya suka belajar python')"
      ],
      "execution_count": 4,
      "outputs": [
        {
          "output_type": "stream",
          "text": [
            "Halo Dunia!\n",
            "panjang = 100\n",
            "lebar = 23\n",
            "saya suka belajar python\n"
          ],
          "name": "stdout"
        }
      ]
    },
    {
      "cell_type": "markdown",
      "metadata": {
        "id": "4uqB0sRjruek"
      },
      "source": [
        "**Aturan yang kedua**\n",
        "2. Statement pada Pyhton dinyatakan dalam satu baris. Jadi akhir dari sebuah pernyataan adalah baris baru (new line)."
      ]
    },
    {
      "cell_type": "code",
      "metadata": {
        "colab": {
          "base_uri": "https://localhost:8080/"
        },
        "id": "a0OFpWYUsqs7",
        "outputId": "3f481e0d-765d-44cd-ff04-cd7f957efca3"
      },
      "source": [
        "print(\"luas = panjang * lebar\")"
      ],
      "execution_count": 5,
      "outputs": [
        {
          "output_type": "stream",
          "text": [
            "luas = panjang * lebar\n"
          ],
          "name": "stdout"
        }
      ]
    },
    {
      "cell_type": "markdown",
      "metadata": {
        "id": "0l4oRzVks5Gx"
      },
      "source": [
        "**Aturan yang ke tiga**\n"
      ]
    }
  ]
}